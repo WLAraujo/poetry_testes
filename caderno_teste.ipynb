{
 "cells": [
  {
   "cell_type": "code",
   "execution_count": 3,
   "metadata": {},
   "outputs": [
    {
     "name": "stdout",
     "output_type": "stream",
     "text": [
      "Defaulting to user installation because normal site-packages is not writeable\n",
      "Requirement already satisfied: projeto-teste in /home/wesleyla/.local/lib/python3.8/site-packages (0.1.1)\n",
      "Requirement already satisfied: pandas<2.0.0,>=1.4.1 in /home/wesleyla/.local/lib/python3.8/site-packages (from projeto-teste) (1.4.1)\n",
      "Requirement already satisfied: pytz>=2020.1 in /home/wesleyla/.local/lib/python3.8/site-packages (from pandas<2.0.0,>=1.4.1->projeto-teste) (2021.1)\n",
      "Requirement already satisfied: numpy>=1.18.5 in /home/wesleyla/.local/lib/python3.8/site-packages (from pandas<2.0.0,>=1.4.1->projeto-teste) (1.21.1)\n",
      "Requirement already satisfied: python-dateutil>=2.8.1 in /home/wesleyla/.local/lib/python3.8/site-packages (from pandas<2.0.0,>=1.4.1->projeto-teste) (2.8.2)\n",
      "Requirement already satisfied: six>=1.5 in /home/wesleyla/.local/lib/python3.8/site-packages (from python-dateutil>=2.8.1->pandas<2.0.0,>=1.4.1->projeto-teste) (1.16.0)\n"
     ]
    }
   ],
   "source": [
    "# Instalando o pacote publicado no ambiente do caderno\n",
    "!pip install projeto-teste"
   ]
  },
  {
   "cell_type": "code",
   "execution_count": 4,
   "metadata": {},
   "outputs": [],
   "source": [
    "# Importando o pacote\n",
    "from projeto_teste import classe"
   ]
  },
  {
   "cell_type": "code",
   "execution_count": 5,
   "metadata": {},
   "outputs": [],
   "source": [
    "# Criando objeto\n",
    "calculadora = classe.Calculadora()"
   ]
  },
  {
   "cell_type": "code",
   "execution_count": 7,
   "metadata": {},
   "outputs": [
    {
     "name": "stdout",
     "output_type": "stream",
     "text": [
      "5\n",
      "2\n",
      "50\n",
      "3.3333333333333335\n",
      "Não aprendeu nada na escola não???\n"
     ]
    }
   ],
   "source": [
    "# Usando a calculadora\n",
    "print(calculadora.soma(2,3))\n",
    "print(calculadora.subtracao(5,3))\n",
    "print(calculadora.multiplicacao(10,5))\n",
    "print(calculadora.divisao(50,15))\n",
    "print(calculadora.divisao(3,0))"
   ]
  }
 ],
 "metadata": {
  "interpreter": {
   "hash": "916dbcbb3f70747c44a77c7bcd40155683ae19c65e1c03b4aa3499c5328201f1"
  },
  "kernelspec": {
   "display_name": "Python 3.8.10 64-bit",
   "language": "python",
   "name": "python3"
  },
  "language_info": {
   "codemirror_mode": {
    "name": "ipython",
    "version": 3
   },
   "file_extension": ".py",
   "mimetype": "text/x-python",
   "name": "python",
   "nbconvert_exporter": "python",
   "pygments_lexer": "ipython3",
   "version": "3.8.10"
  },
  "orig_nbformat": 4
 },
 "nbformat": 4,
 "nbformat_minor": 2
}
